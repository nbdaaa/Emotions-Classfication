{
 "cells": [
  {
   "cell_type": "markdown",
   "metadata": {
    "id": "jyaEYlsTJZ7N"
   },
   "source": [
    "![](https://storage.googleapis.com/mle-courses-prod/users/61b6fa1ba83a7e37c8309756/private-files/0c1001d0-6458-11ef-9b72-9db6eacc12d1-RAGGraph___Neo4J___CamelAI__1_.png)"
   ]
  },
  {
   "cell_type": "markdown",
   "metadata": {
    "id": "iAjHdLlZKc05"
   },
   "source": [
    "[ROFORMER: ENHANCED TRANSFORMER WITH ROTARY\n",
    "POSITION EMBEDDING](https://arxiv.org/pdf/2104.09864v5)\n",
    "\n",
    "RoFormer thêm thông tin vị trí vào **vector q** và k thay vì phải tạo một lớp chỉ positional Embedding.\n",
    "\n",
    "RoFormer áp dụng việc xoay **vector q, k** với một góc không đổi để tăng mối quan hệ vị trí tương đối\n",
    "\n",
    "- Ví dụ ở vị trí trong câu từ m=1 đến m=2 và vị trí m=2 đến m=3, ở cùng một vị trí embedding ví dụ i = 0 vector q sẽ quay một góc giống nhau. Tương tự vector k cũng quay một góc giống nhau\n",
    "\n",
    "\n",
    "![](https://storage.googleapis.com/mle-courses-prod/users/61b6fa1ba83a7e37c8309756/private-files/7313bb20-6457-11ef-b0a7-998b84b38d43-Screen_Shot_2024_08_27_at_16.33.26.png)\n",
    "\n",
    "1. **First Equation:**\n",
    "\n",
    "   $$\n",
    "   \\{q, k\\}_m = R_{\\Theta, m} \\{q, k\\}\n",
    "   $$\n",
    "\n",
    "2. **Second Equation:**\n",
    "\n",
    "   $$\n",
    "   \\{q, k\\} = W_{\\{q, k\\}} x_m\n",
    "   $$\n",
    "\n",
    "3. **Third Equation (Rotation Matrix):**\n",
    "\n",
    "   $$\n",
    "   R_{\\Theta, m} = \\begin{pmatrix}\n",
    "   \\cos(m \\theta_i) & -\\sin(m \\theta_i) \\\\\n",
    "   \\sin(m \\theta_i) & \\cos(m \\theta_i)\n",
    "   \\end{pmatrix}\n",
    "   $$\n",
    "\n",
    "4. **Fourth Equation (Theta Calculation):**\n",
    "\n",
    "   $$\n",
    "   \\theta_i = 10000^{-2i/d}\n",
    "   $$\n"
   ]
  },
  {
   "cell_type": "code",
   "execution_count": null,
   "metadata": {
    "colab": {
     "base_uri": "https://localhost:8080/"
    },
    "execution": {
     "execution_failed": "2025-03-13T02:47:08.024Z"
    },
    "id": "mqdeu9K-AKOJ",
    "outputId": "df5df420-a01e-4004-8dfe-6ffd1227f75a"
   },
   "outputs": [],
   "source": [
    "!pip install tiktoken"
   ]
  },
  {
   "cell_type": "code",
   "execution_count": null,
   "metadata": {
    "colab": {
     "base_uri": "https://localhost:8080/"
    },
    "execution": {
     "execution_failed": "2025-03-13T02:47:08.025Z"
    },
    "id": "7DDzWE78AUzh",
    "outputId": "19f268e6-db1a-45ca-d17d-58bf4fb676f5"
   },
   "outputs": [],
   "source": [
    "!gdown 1WTjIveEsM7XpN28xm6F1qgX57QxaoFI_\n",
    "\n",
    "!gdown 1WbyeG8f-V7VmpKdQam-0tNg4x6XDWoML"
   ]
  },
  {
   "cell_type": "code",
   "execution_count": null,
   "metadata": {
    "execution": {
     "execution_failed": "2025-03-13T02:47:08.025Z"
    }
   },
   "outputs": [],
   "source": [
    "!gdown 1isX7s6hChuJ4GHkVwP80C9DZtbfv1FXl"
   ]
  },
  {
   "cell_type": "code",
   "execution_count": null,
   "metadata": {
    "execution": {
     "execution_failed": "2025-03-13T02:47:08.025Z"
    },
    "id": "CqdCyBPJAWkD"
   },
   "outputs": [],
   "source": [
    "import torch\n",
    "import torch.nn as nn\n",
    "import torch.optim as optim\n",
    "from torch.utils.data import Dataset, DataLoader\n",
    "import tiktoken\n",
    "import pandas as pd\n",
    "from sklearn.model_selection import train_test_split"
   ]
  },
  {
   "cell_type": "code",
   "execution_count": null,
   "metadata": {
    "execution": {
     "execution_failed": "2025-03-13T02:47:08.025Z"
    }
   },
   "outputs": [],
   "source": [
    "device = torch.device(\"cuda\" if torch.cuda.is_available() else \"cpu\")\n",
    "print(f\"Using device: {device}\")"
   ]
  },
  {
   "cell_type": "code",
   "execution_count": null,
   "metadata": {
    "colab": {
     "base_uri": "https://localhost:8080/",
     "height": 223
    },
    "execution": {
     "execution_failed": "2025-03-13T02:47:08.025Z"
    },
    "id": "XgGvgSa7IqDc",
    "outputId": "d29358a8-1ac5-4adc-c46c-f1efe05f2737"
   },
   "outputs": [],
   "source": [
    "import pandas as pd\n",
    "\n",
    "# Đọc tệp CSV huấn luyện vào một DataFrame\n",
    "train_df = pd.read_csv('/kaggle/working/train_set.csv')\n",
    "\n",
    "# Hiển thị vài hàng đầu tiên của DataFrame huấn luyện\n",
    "print(\"Training Set:\")\n",
    "train_df.head()\n"
   ]
  },
  {
   "cell_type": "code",
   "execution_count": null,
   "metadata": {
    "execution": {
     "execution_failed": "2025-03-13T02:47:08.025Z"
    },
    "id": "Rskq4Puy3mwQ"
   },
   "outputs": [],
   "source": [
    "# Rotary Embedding and apply_rotary_pos_emb function\n",
    "class RotaryEmbedding(nn.Module):\n",
    "    def __init__(self, dim, base=10000):\n",
    "        super(RotaryEmbedding, self).__init__()\n",
    "        inv_freq = 1.0 / (base ** (torch.arange(0, dim, 2).float() / dim))\n",
    "        self.register_buffer('inv_freq', inv_freq)\n",
    "\n",
    "    def forward(self, seq_len):\n",
    "        # Generate a range for sequence length and reshape for broadcasting\n",
    "        t = torch.arange(seq_len, device=self.inv_freq.device).type_as(self.inv_freq).unsqueeze(1)\n",
    "        # Calculate the frequency embeddings using broadcasting instead of einsum\n",
    "        freqs = t * self.inv_freq.unsqueeze(0)  # Shape: [seq_len, dim//2]\n",
    "        emb = torch.cat((freqs, freqs), dim=-1)  # Duplicate to match input dimension\n",
    "        return emb[None, :, :]  # Shape: [1, seq_len, dim]\n",
    "\n",
    "def apply_rotary_pos_emb(q, k, sinusoidal_pos):\n",
    "    # Split the query and key tensors into even and odd dimensions\n",
    "    q_cos, q_sin = q[..., 0::2], q[..., 1::2]\n",
    "    k_cos, k_sin = k[..., 0::2], k[..., 1::2]\n",
    "\n",
    "    # Split the positional encodings into cosine and sine parts\n",
    "    cos, sin = sinusoidal_pos[..., 0::2], sinusoidal_pos[..., 1::2]\n",
    "\n",
    "    # Apply rotary embeddings without einsum, element-wise operations\n",
    "    q_rot = torch.cat([q_cos * cos - q_sin * sin, q_cos * sin + q_sin * cos], dim=-1)\n",
    "    k_rot = torch.cat([k_cos * cos - k_sin * sin, k_cos * sin + k_sin * cos], dim=-1)\n",
    "\n",
    "    return q_rot, k_rot"
   ]
  },
  {
   "cell_type": "code",
   "execution_count": null,
   "metadata": {
    "execution": {
     "execution_failed": "2025-03-13T02:47:08.025Z"
    },
    "id": "Lt6pqhFIAYSX"
   },
   "outputs": [],
   "source": [
    "class TextDataset(Dataset):\n",
    "    def __init__(self, dataframe, tokenizer, device):\n",
    "        self.titles = dataframe['title'].str.lower().values\n",
    "        self.labels = dataframe['label_numeric'].values\n",
    "        self.tokenizer = tokenizer\n",
    "        self.device = device\n",
    "\n",
    "    def __len__(self):\n",
    "        return len(self.titles)\n",
    "\n",
    "    def __getitem__(self, idx):\n",
    "        title = self.titles[idx]\n",
    "        label = self.labels[idx]\n",
    "        encoding = self.tokenizer.encode(title)\n",
    "        input_ids = torch.tensor(encoding, dtype=torch.long).to(self.device)\n",
    "        label = torch.tensor(label, dtype=torch.long).to(self.device)\n",
    "        return input_ids, label"
   ]
  },
  {
   "cell_type": "code",
   "execution_count": null,
   "metadata": {
    "execution": {
     "execution_failed": "2025-03-13T02:47:08.025Z"
    },
    "id": "7LOszNGrAZRy"
   },
   "outputs": [],
   "source": [
    "# Updated collate function that handles device placement\n",
    "def collate_fn(batch):\n",
    "    # Extract device from the first item in the batch\n",
    "    device = batch[0][0].device if len(batch) > 0 else torch.device('cpu')\n",
    "    \n",
    "    input_ids = [item[0] for item in batch]\n",
    "    labels = [item[1] for item in batch]\n",
    "    \n",
    "    # Find max length\n",
    "    max_length = max(len(ids) for ids in input_ids)\n",
    "    \n",
    "    # Pad sequences and stack\n",
    "    padded_input_ids = []\n",
    "    for ids in input_ids:\n",
    "        padding = torch.zeros(max_length - len(ids), dtype=torch.long, device=device)\n",
    "        padded_input_ids.append(torch.cat([ids, padding]))\n",
    "    \n",
    "    input_ids = torch.stack(padded_input_ids)\n",
    "    labels = torch.stack(labels)\n",
    "    \n",
    "    return input_ids, labels"
   ]
  },
  {
   "cell_type": "code",
   "execution_count": null,
   "metadata": {
    "execution": {
     "execution_failed": "2025-03-13T02:47:08.025Z"
    },
    "id": "g1rriEeAAcKm"
   },
   "outputs": [],
   "source": [
    "# Transformer Encoder Layer with Rotary Position Embedding\n",
    "class TransformerEncoderLayer(nn.Module):\n",
    "    def __init__(self, d_model, num_heads, d_ff, dropout=0.1):\n",
    "        super(TransformerEncoderLayer, self).__init__()\n",
    "        self.num_heads = num_heads\n",
    "        self.d_model = d_model\n",
    "        self.depth = d_model // num_heads\n",
    "\n",
    "        self.rotary_emb = RotaryEmbedding(self.depth)\n",
    "\n",
    "        # Linear layers for Q, K, V matrices\n",
    "        self.wq = nn.Linear(d_model, d_model)\n",
    "        self.wk = nn.Linear(d_model, d_model)\n",
    "        self.wv = nn.Linear(d_model, d_model)\n",
    "\n",
    "        # Output linear transformation\n",
    "        self.dense = nn.Linear(d_model, d_model)\n",
    "\n",
    "        # Feed-forward network\n",
    "        self.feed_forward = nn.Sequential(\n",
    "            nn.Linear(d_model, d_ff),\n",
    "            nn.ReLU(),\n",
    "            nn.Linear(d_ff, d_model)\n",
    "        )\n",
    "\n",
    "        # Layer normalization and dropout\n",
    "        self.layernorm1 = nn.LayerNorm(d_model)\n",
    "        self.layernorm2 = nn.LayerNorm(d_model)\n",
    "        self.dropout = nn.Dropout(dropout)\n",
    "\n",
    "    def split_heads(self, x, batch_size):\n",
    "        x = x.view(batch_size, -1, self.num_heads, self.depth)\n",
    "        return x.transpose(1, 2)\n",
    "\n",
    "    def scaled_dot_product_attention(self, q, k, v, mask=None):\n",
    "        matmul_qk = torch.matmul(q, k.transpose(-2, -1))\n",
    "        dk = torch.tensor(k.size(-1), dtype=torch.float32, device=q.device)\n",
    "        scaled_attention_logits = matmul_qk / torch.sqrt(dk)\n",
    "\n",
    "        if mask is not None:\n",
    "            scaled_attention_logits = scaled_attention_logits.masked_fill(mask == 0, -1e9)\n",
    "\n",
    "        attention_weights = torch.nn.functional.softmax(scaled_attention_logits, dim=-1)\n",
    "        output = torch.matmul(attention_weights, v)\n",
    "\n",
    "        return output, attention_weights\n",
    "\n",
    "    def forward(self, x, mask=None):\n",
    "        batch_size = x.size(0)\n",
    "        seq_len = x.size(1)\n",
    "\n",
    "        # Apply linear layers and split into heads\n",
    "        q = self.split_heads(self.wq(x), batch_size)\n",
    "        k = self.split_heads(self.wk(x), batch_size)\n",
    "        v = self.split_heads(self.wv(x), batch_size)\n",
    "\n",
    "        # Rotary position embedding\n",
    "        sinusoidal_pos = self.rotary_emb(seq_len)\n",
    "        q_rot, k_rot = apply_rotary_pos_emb(q, k, sinusoidal_pos)\n",
    "\n",
    "        # Apply the custom scaled dot-product attention\n",
    "        scaled_attention, _ = self.scaled_dot_product_attention(q_rot, k_rot, v, mask)\n",
    "\n",
    "        # Transpose and reshape back to (batch_size, seq_len, d_model)\n",
    "        scaled_attention = scaled_attention.transpose(1, 2).contiguous()\n",
    "        concat_attention = scaled_attention.view(batch_size, -1, self.d_model)\n",
    "\n",
    "        # Apply the final linear layer to combine the heads\n",
    "        attn_output = self.dense(concat_attention)\n",
    "\n",
    "        # Add & Norm\n",
    "        x = self.layernorm1(x + self.dropout(attn_output))\n",
    "\n",
    "        # Feed-forward\n",
    "        ff_output = self.feed_forward(x)\n",
    "\n",
    "        # Add & Norm\n",
    "        x = self.layernorm2(x + self.dropout(ff_output))\n",
    "\n",
    "        return x"
   ]
  },
  {
   "cell_type": "code",
   "execution_count": null,
   "metadata": {
    "execution": {
     "execution_failed": "2025-03-13T02:47:08.025Z"
    },
    "id": "6KuAipzfAeXv"
   },
   "outputs": [],
   "source": [
    "class TransformerModel(nn.Module):\n",
    "    def __init__(self, vocab_size, embed_size, d_model, num_heads, d_ff, output_size, num_layers, dropout=0.1):\n",
    "        super(TransformerModel, self).__init__()\n",
    "        self.embedding = nn.Embedding(vocab_size, embed_size)\n",
    "        self.encoder_layers = nn.ModuleList([\n",
    "            TransformerEncoderLayer(d_model, num_heads, d_ff, dropout)\n",
    "            for _ in range(num_layers)\n",
    "        ])\n",
    "        self.fc = nn.Linear(d_model, output_size)\n",
    "        self.dropout = nn.Dropout(dropout)\n",
    "\n",
    "    def forward(self, x, mask=None):\n",
    "        x = self.embedding(x)  # (batch_size, seq_len, embed_size)\n",
    "        for layer in self.encoder_layers:\n",
    "            x = layer(x, mask)  # (batch_size, seq_len, d_model)\n",
    "        x = x.mean(dim=1)  # (batch_size, d_model)\n",
    "        x = self.fc(self.dropout(x))  # (batch_size, output_size)\n",
    "        return x"
   ]
  },
  {
   "cell_type": "code",
   "execution_count": null,
   "metadata": {
    "execution": {
     "execution_failed": "2025-03-13T02:47:08.025Z"
    },
    "id": "jdZcu7ZKBVBZ"
   },
   "outputs": [],
   "source": [
    "# Load and preprocess data\n",
    "train_df = pd.read_csv('/kaggle/working/train_set.csv')\n",
    "validation_df = pd.read_csv('/kaggle/working/validation_set.csv')\n",
    "\n",
    "from transformers import AutoTokenizer\n",
    "\n",
    "tokenizer = AutoTokenizer.from_pretrained(\"vinai/phobert-base\")\n"
   ]
  },
  {
   "cell_type": "code",
   "execution_count": null,
   "metadata": {
    "execution": {
     "execution_failed": "2025-03-13T02:47:08.025Z"
    }
   },
   "outputs": [],
   "source": [
    "# Initialize Datasets with device\n",
    "train_dataset = TextDataset(train_df, tokenizer, device)\n",
    "val_dataset = TextDataset(validation_df, tokenizer, device)"
   ]
  },
  {
   "cell_type": "code",
   "execution_count": null,
   "metadata": {
    "execution": {
     "execution_failed": "2025-03-13T02:47:08.025Z"
    },
    "id": "yxaHUt79BV5c"
   },
   "outputs": [],
   "source": [
    "batch_size = 32\n",
    "train_dataloader = DataLoader(train_dataset, batch_size=batch_size, shuffle=True, collate_fn=collate_fn)\n",
    "val_dataloader = DataLoader(val_dataset, batch_size=batch_size, shuffle=False, collate_fn=collate_fn)"
   ]
  },
  {
   "cell_type": "code",
   "execution_count": null,
   "metadata": {
    "execution": {
     "execution_failed": "2025-03-13T02:47:08.025Z"
    },
    "id": "wfFQKb4-BX1q"
   },
   "outputs": [],
   "source": [
    "# Initialize the Transformer model\n",
    "vocab_size = tokenizer.vocab_size\n",
    "embed_size = 128\n",
    "d_model = 128\n",
    "num_heads = 8\n",
    "d_ff = 256\n",
    "output_size = len(train_df['label_numeric'].unique())\n",
    "num_layers = 8\n",
    "dropout = 0.2\n",
    "\n",
    "model = TransformerModel(vocab_size, embed_size, d_model, num_heads, d_ff, output_size, num_layers, dropout)\n",
    "model = model.to(device)\n",
    "    \n",
    "# Training loop\n",
    "criterion = nn.CrossEntropyLoss().to(device)\n",
    "optimizer = optim.AdamW(model.parameters(), lr=0.5)"
   ]
  },
  {
   "cell_type": "code",
   "execution_count": null,
   "metadata": {
    "execution": {
     "execution_failed": "2025-03-13T02:47:08.025Z"
    }
   },
   "outputs": [],
   "source": [
    "# Training loop with model saving\n",
    "best_val_accuracy = 0.0  # Track the best validation accuracy\n",
    "best_model_path = 'best_model.pth'  # File path to save the best model"
   ]
  },
  {
   "cell_type": "code",
   "execution_count": null,
   "metadata": {
    "colab": {
     "base_uri": "https://localhost:8080/"
    },
    "execution": {
     "execution_failed": "2025-03-13T02:47:08.025Z"
    },
    "id": "TCDm8oP1BaMl",
    "outputId": "347fcfff-b795-4b44-b741-953c0711acc9"
   },
   "outputs": [],
   "source": [
    "num_epochs = 150\n",
    "\n",
    "for epoch in range(num_epochs):\n",
    "    model.train()\n",
    "    train_loss = 0.0\n",
    "    train_correct = 0\n",
    "    train_total = 0\n",
    "\n",
    "    for input_ids, labels in train_dataloader:\n",
    "        # No need to move tensors to device here as we already did it in TextDataset and collate_fn\n",
    "        optimizer.zero_grad()\n",
    "        outputs = model(input_ids)\n",
    "        loss = criterion(outputs, labels)\n",
    "        loss.backward()\n",
    "        optimizer.step()\n",
    "\n",
    "        # Calculate training accuracy\n",
    "        _, predicted = torch.max(outputs, 1)\n",
    "        train_total += labels.size(0)\n",
    "        train_correct += (predicted == labels).sum().item()\n",
    "        train_loss += loss.item()\n",
    "\n",
    "    # Calculate training metrics\n",
    "    avg_train_loss = train_loss / len(train_dataloader)\n",
    "    train_accuracy = 100 * train_correct / train_total\n",
    "    print(f\"Epoch {epoch+1}/{num_epochs}, Loss: {avg_train_loss:.4f}, Training Accuracy: {train_accuracy:.2f}%\")\n",
    "\n",
    "    # Validation step\n",
    "    model.eval()\n",
    "    val_correct = 0\n",
    "    val_total = 0\n",
    "    with torch.no_grad():\n",
    "        for input_ids, labels in val_dataloader:\n",
    "            # No need to move tensors to device here\n",
    "            outputs = model(input_ids)\n",
    "            _, predicted = torch.max(outputs, 1)\n",
    "            val_total += labels.size(0)\n",
    "            val_correct += (predicted == labels).sum().item()\n",
    "\n",
    "    val_accuracy = 100 * val_correct / val_total\n",
    "    print(f\"Validation Accuracy after Epoch {epoch+1}: {val_accuracy:.2f}%\")\n",
    "\n",
    "    # Save model if validation accuracy improves\n",
    "    if val_accuracy > best_val_accuracy:\n",
    "        best_val_accuracy = val_accuracy\n",
    "        torch.save(model.state_dict(), best_model_path)\n",
    "    \n",
    "    print()  # Add a blank line for readability"
   ]
  },
  {
   "cell_type": "code",
   "execution_count": null,
   "metadata": {
    "execution": {
     "execution_failed": "2025-03-13T02:47:08.025Z"
    },
    "id": "UMi5zBsC_jfI"
   },
   "outputs": [],
   "source": [
    "# Assuming the same model architecture\n",
    "model.load_state_dict(torch.load('best_model.pth'), strict = False)\n",
    "model.eval()  # Set to evaluation mode if using for inference"
   ]
  },
  {
   "cell_type": "code",
   "execution_count": null,
   "metadata": {
    "execution": {
     "execution_failed": "2025-03-13T02:47:08.025Z"
    }
   },
   "outputs": [],
   "source": [
    "import torch\n",
    "import pandas as pd\n",
    "\n",
    "def predict_sentence(model, tokenizer, sentence):\n",
    "    \"\"\"\n",
    "    Dự đoán nhãn cho một câu sử dụng mô hình GRU đã huấn luyện.\n",
    "\n",
    "    Parameters:\n",
    "    - model: Mô hình GRU đã huấn luyện.\n",
    "    - tokenizer: GPT tokenizer đã được khởi tạo.\n",
    "    - sentence: Câu cần dự đoán (chuỗi văn bản).\n",
    "\n",
    "    Returns:\n",
    "    - predicted_label: Nhãn dự đoán cho câu (số nguyên).\n",
    "    \"\"\"\n",
    "    model.eval()\n",
    "    sentence = sentence.lower()\n",
    "    input_ids = tokenizer.encode(sentence)\n",
    "    input_ids = torch.tensor(input_ids, dtype=torch.long, device = device).unsqueeze(0)\n",
    "\n",
    "    with torch.no_grad():\n",
    "      output = model(input_ids)\n",
    "\n",
    "    _, predicted_label = torch.max(output, dim=1)\n",
    "\n",
    "    return predicted_label.item()\n",
    "\n",
    "# Đọc tập test từ file CSV\n",
    "test_df = pd.read_csv('/kaggle/working/test_set_public.csv')\n",
    "\n",
    "# Dự đoán nhãn cho từng tiêu đề trong tập test\n",
    "test_df['label_numeric'] = test_df['title'].apply(lambda x: predict_sentence(model, tokenizer, x))\n",
    "\n",
    "test_df.rename(columns={'_id': 'id'}, inplace=True)\n",
    "\n",
    "test_df = test_df.drop('title', axis=1)\n",
    "\n",
    "# Lưu kết quả vào file CSV\n",
    "test_df.to_csv('your_submissions.csv', index=False)\n"
   ]
  },
  {
   "cell_type": "code",
   "execution_count": null,
   "metadata": {
    "execution": {
     "execution_failed": "2025-03-13T02:47:08.025Z"
    }
   },
   "outputs": [],
   "source": [
    "test_df.head()"
   ]
  }
 ],
 "metadata": {
  "accelerator": "GPU",
  "colab": {
   "gpuType": "L4",
   "machine_shape": "hm",
   "provenance": []
  },
  "kaggle": {
   "accelerator": "nvidiaTeslaT4",
   "dataSources": [],
   "dockerImageVersionId": 30919,
   "isGpuEnabled": true,
   "isInternetEnabled": true,
   "language": "python",
   "sourceType": "notebook"
  },
  "kernelspec": {
   "display_name": "Python 3 (ipykernel)",
   "language": "python",
   "name": "python3"
  },
  "language_info": {
   "codemirror_mode": {
    "name": "ipython",
    "version": 3
   },
   "file_extension": ".py",
   "mimetype": "text/x-python",
   "name": "python",
   "nbconvert_exporter": "python",
   "pygments_lexer": "ipython3",
   "version": "3.11.5"
  }
 },
 "nbformat": 4,
 "nbformat_minor": 4
}
